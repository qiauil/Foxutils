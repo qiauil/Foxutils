{
 "cells": [
  {
   "cell_type": "code",
   "execution_count": 3,
   "id": "ff22cfff",
   "metadata": {},
   "outputs": [],
   "source": [
    "from foxutils.trainerX import Trainer,get_cosine_lambda\n",
    "import numpy as np\n",
    "import torch.nn as nn\n",
    "import torch"
   ]
  },
  {
   "cell_type": "code",
   "execution_count": 4,
   "id": "c6d37a17",
   "metadata": {},
   "outputs": [],
   "source": [
    "class DSet():\n",
    "    \n",
    "    def __init__(self,validation=False) -> None:\n",
    "        dataset = np.loadtxt('pima-indians-diabetes.csv', delimiter=',')\n",
    "        if validation:\n",
    "            self.x=dataset[600:,0:8]\n",
    "            self.y=dataset[600:,8:9]\n",
    "        else:\n",
    "            self.x=dataset[0:600,0:8]\n",
    "            self.y=dataset[0:600,8:9]\n",
    "    \n",
    "    def __len__(self):\n",
    "        return len(self.x)\n",
    "    \n",
    "    def __getitem__(self, idx):\n",
    "        return torch.tensor(self.x[idx]).float(), torch.tensor(self.y[idx]).float()\n",
    "\n",
    "\n",
    "class PimaClassifier(nn.Module):\n",
    "    def __init__(self):\n",
    "        super().__init__()\n",
    "        self.hidden1 = nn.Linear(8, 12)\n",
    "        self.act1 = nn.ReLU()\n",
    "        self.hidden2 = nn.Linear(12, 8)\n",
    "        self.act2 = nn.ReLU()\n",
    "        self.output = nn.Linear(8, 1)\n",
    "        self.act_output = nn.Sigmoid()\n",
    " \n",
    "    def forward(self, x):\n",
    "        x = self.act1(self.hidden1(x))\n",
    "        x = self.act2(self.hidden2(x))\n",
    "        x = self.act_output(self.output(x))\n",
    "        return x\n",
    " \n"
   ]
  },
  {
   "cell_type": "code",
   "execution_count": 5,
   "id": "2462d2a4",
   "metadata": {},
   "outputs": [],
   "source": [
    "train_dataset=DSet()\n",
    "validation_dataset=DSet(validation=True)\n",
    "network = PimaClassifier()\n",
    "trainer=Trainer()"
   ]
  },
  {
   "cell_type": "code",
   "execution_count": 6,
   "id": "94268e3f",
   "metadata": {},
   "outputs": [
    {
     "name": "stderr",
     "output_type": "stream",
     "text": [
      "Trainer created at 2023-10-25-13_42_38\n",
      "Working path:./test_train/test_train/2023-10-25-13_42_38/\n",
      "Training configurations saved to ./test_train/test_train/2023-10-25-13_42_38/configs.yaml\n",
      "Network has 221 trainable parameters\n",
      "There are 19 training batches in each epoch\n",
      "Batch size for training:32\n",
      "Training epochs:1000\n",
      "Total training iterations:19000\n",
      "Validation will be done every 10 epochs\n",
      "Batch size for validation:32\n",
      "learning rate:0.001\n",
      "Optimizer:AdamW\n",
      "Learning rate scheduler:linear\n",
      "Use learning rate warm up, warmup epoch:100\n",
      "Training start!\n",
      "lr:0.00010099999999999997 train loss:0.11804 validation loss:0.16980: 100%|██████████| 1000/1000 [00:20<00:00, 48.99it/s]\n",
      "Training finished!\n"
     ]
    }
   ],
   "source": [
    "trainer.train_from_scratch(\n",
    "    network,\n",
    "    train_dataset,\n",
    "    validation_dataset,\n",
    "    name=\"test_train\",\n",
    "    save_path=\"./test_train/\",\n",
    "    batch_size_train=32,\n",
    "    epochs=1000,\n",
    "    lr=0.001,\n",
    "    final_lr=0.0001,\n",
    "    warmup_epoch=100,\n",
    "    record_iteration_loss=True,\n",
    "    lr_scheduler='linear',\n",
    "    device='cpu',\n",
    "    validation_epoch_frequency=10\n",
    ")"
   ]
  },
  {
   "cell_type": "code",
   "execution_count": 7,
   "id": "5a089d2d",
   "metadata": {},
   "outputs": [
    {
     "name": "stderr",
     "output_type": "stream",
     "text": [
      "Trainer created at 2023-10-24-15_44_27\n",
      "Training from checkpoint, checkpoint epoch:101\n",
      "Working path:./test_train/test_train/2023-10-24-15_44_16/\n",
      "Training configurations saved to ./test_train/test_train/2023-10-24-15_44_16/configs.yaml\n",
      "Network has 221 trainable parameters\n",
      "There are 19 training batches in each epoch\n",
      "Batch size for training:32\n",
      "Training epochs:900\n",
      "Total training iterations:17100\n",
      "Validation will be done every 10 epochs\n",
      "Batch size for validation:32\n",
      "learning rate:0.001\n",
      "Optimizer:AdamW\n",
      "Learning rate scheduler:linear\n",
      "Use learning rate warm up, warmup epoch:100\n",
      "Loading checkpoint from ./test_train/test_train/2023-10-24-15_44_16/checkpoints/checkpoint_100.pt\n",
      "Training start!\n"
     ]
    },
    {
     "name": "stdout",
     "output_type": "stream",
     "text": [
      "No configs.yaml found in ./test_train/test_train/\n",
      "Trying to use the latest subfolder as project path\n",
      "Project path set to ./test_train/test_train/2023-10-24-15_44_16/\n"
     ]
    },
    {
     "name": "stderr",
     "output_type": "stream",
     "text": [
      "lr:0.00010099999999999997 train loss:0.13277 validation loss:0.14159: 100%|██████████| 900/900 [00:18<00:00, 48.73it/s]\n",
      "Training finished!\n"
     ]
    }
   ],
   "source": [
    "trainer.train_from_checkpoint(\"./test_train/test_train/\",train_dataset,validation_dataset,restart_epoch=100)"
   ]
  }
 ],
 "metadata": {
  "kernelspec": {
   "display_name": "deepLearning",
   "language": "python",
   "name": "python3"
  },
  "language_info": {
   "codemirror_mode": {
    "name": "ipython",
    "version": 3
   },
   "file_extension": ".py",
   "mimetype": "text/x-python",
   "name": "python",
   "nbconvert_exporter": "python",
   "pygments_lexer": "ipython3",
   "version": "3.9.13"
  }
 },
 "nbformat": 4,
 "nbformat_minor": 5
}
